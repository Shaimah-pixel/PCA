{
 "cells": [
  {
   "cell_type": "code",
   "execution_count": 2,
   "id": "6837af81-1ab4-4863-90d2-d39f145dd064",
   "metadata": {},
   "outputs": [],
   "source": [
    "#This dataset is designed for predicting energy consumption based on various building features and environmental factors. It contains data for multiple building types, square footage, the number of occupants, appliances used, average temperature, and the day of the week. The goal is to build a predictive model to estimate energy consumption using these attributes."
   ]
  },
  {
   "cell_type": "code",
   "execution_count": 3,
   "id": "a5b375c9-1e84-4961-8a54-4e547d66042c",
   "metadata": {},
   "outputs": [],
   "source": [
    "import pandas as pd"
   ]
  },
  {
   "cell_type": "code",
   "execution_count": 4,
   "id": "14c18dfa-2b41-4f50-a6b7-75d2b05ee0a3",
   "metadata": {},
   "outputs": [],
   "source": [
    "data=pd.read_csv(r\"C:\\Users\\shamzkha\\Documents\\train_energy_data.csv\")"
   ]
  },
  {
   "cell_type": "code",
   "execution_count": 5,
   "id": "aa9bc54c-5c34-415b-bc10-d4279a0c6f23",
   "metadata": {},
   "outputs": [
    {
     "data": {
      "text/plain": [
       "(1000, 7)"
      ]
     },
     "execution_count": 5,
     "metadata": {},
     "output_type": "execute_result"
    }
   ],
   "source": [
    "data.shape"
   ]
  },
  {
   "cell_type": "code",
   "execution_count": 6,
   "id": "f7b0a3a0-d03c-427e-bc7c-95b1e40a740b",
   "metadata": {},
   "outputs": [
    {
     "data": {
      "text/html": [
       "<div>\n",
       "<style scoped>\n",
       "    .dataframe tbody tr th:only-of-type {\n",
       "        vertical-align: middle;\n",
       "    }\n",
       "\n",
       "    .dataframe tbody tr th {\n",
       "        vertical-align: top;\n",
       "    }\n",
       "\n",
       "    .dataframe thead th {\n",
       "        text-align: right;\n",
       "    }\n",
       "</style>\n",
       "<table border=\"1\" class=\"dataframe\">\n",
       "  <thead>\n",
       "    <tr style=\"text-align: right;\">\n",
       "      <th></th>\n",
       "      <th>Building Type</th>\n",
       "      <th>Square Footage</th>\n",
       "      <th>Number of Occupants</th>\n",
       "      <th>Appliances Used</th>\n",
       "      <th>Average Temperature</th>\n",
       "      <th>Day of Week</th>\n",
       "      <th>Energy Consumption</th>\n",
       "    </tr>\n",
       "  </thead>\n",
       "  <tbody>\n",
       "    <tr>\n",
       "      <th>0</th>\n",
       "      <td>Residential</td>\n",
       "      <td>7063</td>\n",
       "      <td>76</td>\n",
       "      <td>10</td>\n",
       "      <td>29.84</td>\n",
       "      <td>Weekday</td>\n",
       "      <td>2713.95</td>\n",
       "    </tr>\n",
       "    <tr>\n",
       "      <th>1</th>\n",
       "      <td>Commercial</td>\n",
       "      <td>44372</td>\n",
       "      <td>66</td>\n",
       "      <td>45</td>\n",
       "      <td>16.72</td>\n",
       "      <td>Weekday</td>\n",
       "      <td>5744.99</td>\n",
       "    </tr>\n",
       "    <tr>\n",
       "      <th>2</th>\n",
       "      <td>Industrial</td>\n",
       "      <td>19255</td>\n",
       "      <td>37</td>\n",
       "      <td>17</td>\n",
       "      <td>14.30</td>\n",
       "      <td>Weekend</td>\n",
       "      <td>4101.24</td>\n",
       "    </tr>\n",
       "    <tr>\n",
       "      <th>3</th>\n",
       "      <td>Residential</td>\n",
       "      <td>13265</td>\n",
       "      <td>14</td>\n",
       "      <td>41</td>\n",
       "      <td>32.82</td>\n",
       "      <td>Weekday</td>\n",
       "      <td>3009.14</td>\n",
       "    </tr>\n",
       "    <tr>\n",
       "      <th>4</th>\n",
       "      <td>Commercial</td>\n",
       "      <td>13375</td>\n",
       "      <td>26</td>\n",
       "      <td>18</td>\n",
       "      <td>11.92</td>\n",
       "      <td>Weekday</td>\n",
       "      <td>3279.17</td>\n",
       "    </tr>\n",
       "  </tbody>\n",
       "</table>\n",
       "</div>"
      ],
      "text/plain": [
       "  Building Type  Square Footage  Number of Occupants  Appliances Used  \\\n",
       "0   Residential            7063                   76               10   \n",
       "1    Commercial           44372                   66               45   \n",
       "2    Industrial           19255                   37               17   \n",
       "3   Residential           13265                   14               41   \n",
       "4    Commercial           13375                   26               18   \n",
       "\n",
       "   Average Temperature Day of Week  Energy Consumption  \n",
       "0                29.84     Weekday             2713.95  \n",
       "1                16.72     Weekday             5744.99  \n",
       "2                14.30     Weekend             4101.24  \n",
       "3                32.82     Weekday             3009.14  \n",
       "4                11.92     Weekday             3279.17  "
      ]
     },
     "execution_count": 6,
     "metadata": {},
     "output_type": "execute_result"
    }
   ],
   "source": [
    "data.head()"
   ]
  },
  {
   "cell_type": "code",
   "execution_count": 7,
   "id": "2b801baf-88fd-49d0-b709-665ef1e9a7c3",
   "metadata": {},
   "outputs": [],
   "source": [
    "data=data.rename(columns={\"Building Type\":\"Building_Type\"})"
   ]
  },
  {
   "cell_type": "code",
   "execution_count": 8,
   "id": "ed32fc43-700a-4245-aa19-6e24f19810c8",
   "metadata": {},
   "outputs": [],
   "source": [
    "data=data.rename(columns={\"Day of Week\":\"Day_of_Week\"})"
   ]
  },
  {
   "cell_type": "code",
   "execution_count": 9,
   "id": "a945d566-89d5-4225-8962-b9d25a72db34",
   "metadata": {},
   "outputs": [
    {
     "data": {
      "text/plain": [
       "Building_Type          0\n",
       "Square Footage         0\n",
       "Number of Occupants    0\n",
       "Appliances Used        0\n",
       "Average Temperature    0\n",
       "Day_of_Week            0\n",
       "Energy Consumption     0\n",
       "dtype: int64"
      ]
     },
     "execution_count": 9,
     "metadata": {},
     "output_type": "execute_result"
    }
   ],
   "source": [
    "data.isnull().sum()"
   ]
  },
  {
   "cell_type": "code",
   "execution_count": 10,
   "id": "12344e25-f023-4d2c-82b1-f491fdf5d082",
   "metadata": {},
   "outputs": [
    {
     "data": {
      "text/plain": [
       "Building_Type           object\n",
       "Square Footage           int64\n",
       "Number of Occupants      int64\n",
       "Appliances Used          int64\n",
       "Average Temperature    float64\n",
       "Day_of_Week             object\n",
       "Energy Consumption     float64\n",
       "dtype: object"
      ]
     },
     "execution_count": 10,
     "metadata": {},
     "output_type": "execute_result"
    }
   ],
   "source": [
    "data.dtypes"
   ]
  },
  {
   "cell_type": "code",
   "execution_count": null,
   "id": "4a93be67-28a6-4073-99b4-0714ef6c653a",
   "metadata": {},
   "outputs": [],
   "source": [
    "from sklearn.preprocessing import LabelEncoder\n",
    "le=LabelEncoder()"
   ]
  },
  {
   "cell_type": "code",
   "execution_count": null,
   "id": "897adfe7-721f-4875-9862-dc5cee16f9b4",
   "metadata": {},
   "outputs": [],
   "source": [
    "data.Building_Type=le.fit_transform(data.Building_Type)"
   ]
  },
  {
   "cell_type": "code",
   "execution_count": null,
   "id": "b53102ec-cef7-4043-967c-6074b74cbde5",
   "metadata": {},
   "outputs": [],
   "source": [
    "data.Day_of_Week=le.fit_transform(data.Day_of_Week)"
   ]
  },
  {
   "cell_type": "code",
   "execution_count": null,
   "id": "265f7bfe-0c2d-47df-9dfd-7c1f5d167cc1",
   "metadata": {},
   "outputs": [],
   "source": [
    "data.dtypes"
   ]
  },
  {
   "cell_type": "code",
   "execution_count": null,
   "id": "239c1bfa-df7e-4c6a-a4df-a883a6f7906a",
   "metadata": {},
   "outputs": [],
   "source": [
    "data.head()"
   ]
  },
  {
   "cell_type": "code",
   "execution_count": null,
   "id": "6f112ba2-2fb7-4487-a72c-35f2dd60fce7",
   "metadata": {},
   "outputs": [],
   "source": [
    "data_x=data.iloc[:,0:6]\n",
    "data_x.head()"
   ]
  },
  {
   "cell_type": "code",
   "execution_count": null,
   "id": "1584b102-1c1b-4968-ac77-2a86f8279151",
   "metadata": {},
   "outputs": [],
   "source": [
    "data_y=data.iloc[:,6]\n",
    "data_y.head()"
   ]
  },
  {
   "cell_type": "code",
   "execution_count": null,
   "id": "a3dae9a8-0f97-43e7-bcd4-3f023b7811d7",
   "metadata": {},
   "outputs": [],
   "source": [
    "from sklearn.preprocessing import StandardScaler\n",
    "ss=StandardScaler()"
   ]
  },
  {
   "cell_type": "code",
   "execution_count": null,
   "id": "1f62a5e5-c1e1-4f57-b4dd-8501de83ce55",
   "metadata": {},
   "outputs": [],
   "source": [
    "from sklearn.decomposition import PCA\n",
    "pca=PCA()"
   ]
  },
  {
   "cell_type": "code",
   "execution_count": null,
   "id": "2307fc7c-3f44-4bcd-b7b1-5efe72cdfd13",
   "metadata": {},
   "outputs": [],
   "source": [
    "ss.fit(data_x)"
   ]
  },
  {
   "cell_type": "code",
   "execution_count": null,
   "id": "78102716-8905-4b16-a9ad-b99a45479d5c",
   "metadata": {},
   "outputs": [],
   "source": [
    "ss_data=ss.transform(data_x)"
   ]
  },
  {
   "cell_type": "code",
   "execution_count": null,
   "id": "3a8a6287-da59-4447-b617-5e3ca80bd7a3",
   "metadata": {},
   "outputs": [],
   "source": [
    "pca.fit(ss_data)"
   ]
  },
  {
   "cell_type": "code",
   "execution_count": null,
   "id": "1a2aca5a-554e-44fb-a45f-fe85fa06b208",
   "metadata": {},
   "outputs": [],
   "source": [
    "data_x_pca1=pca.transform(ss_data)\n",
    "data_x_pca1"
   ]
  },
  {
   "cell_type": "code",
   "execution_count": null,
   "id": "da662473-a8da-4fbb-bfb1-f74dc3c9a935",
   "metadata": {},
   "outputs": [],
   "source": [
    "pca.explained_variance_ratio_.sum()"
   ]
  },
  {
   "cell_type": "code",
   "execution_count": null,
   "id": "f5553b36-e965-4933-8729-4cd71de80a5f",
   "metadata": {},
   "outputs": [],
   "source": [
    "pca.explained_variance_ratio_"
   ]
  },
  {
   "cell_type": "code",
   "execution_count": null,
   "id": "4e2d8358-7d66-4ae8-bb40-8cf50fbee69f",
   "metadata": {},
   "outputs": [],
   "source": [
    "pd.DataFrame(data_x_pca1).corr()"
   ]
  },
  {
   "cell_type": "code",
   "execution_count": null,
   "id": "3f80af29-eca5-4d97-b914-386b94c3aed0",
   "metadata": {},
   "outputs": [],
   "source": [
    "from sklearn import linear_model\n",
    "ln=linear_model.LinearRegression()"
   ]
  },
  {
   "cell_type": "code",
   "execution_count": null,
   "id": "46c3c099-1aeb-43de-ac2d-e82aa4d92b58",
   "metadata": {},
   "outputs": [],
   "source": [
    "data_x_pca1_df=pd.DataFrame(data_x_pca1)"
   ]
  },
  {
   "cell_type": "code",
   "execution_count": null,
   "id": "e067bb45-898c-46c9-8bc3-9cbe99fc4bef",
   "metadata": {},
   "outputs": [],
   "source": [
    "ln.fit(data_x_pca1_df.iloc[:,[0,1,2,3,4]],data_y)"
   ]
  },
  {
   "cell_type": "code",
   "execution_count": null,
   "id": "79bf53b8-46f6-4c02-9980-7c8e17b3a273",
   "metadata": {},
   "outputs": [],
   "source": [
    "ln.score(data_x_pca1_df.iloc[:,[0,1,2,3,4]],data_y)"
   ]
  },
  {
   "cell_type": "code",
   "execution_count": null,
   "id": "565046e3-5d49-44dc-bd15-4ed1e53c4875",
   "metadata": {},
   "outputs": [],
   "source": [
    "#Since this score comes from a linear regression model, the value of 0.845 likely represents the R-squared (R²) value, which indicates the proportion of variance in the target variable (data_y) that is explained by the independent variables (data_x_pca1_df).\n",
    "\n",
    "#In this case, an R-squared value of 0.845 means that approximately 84.5% of the variability in data_y can be explained by the linear relationship with the predictors (the columns of data_x_pca1_df)."
   ]
  }
 ],
 "metadata": {
  "kernelspec": {
   "display_name": "Python 3 (ipykernel)",
   "language": "python",
   "name": "python3"
  },
  "language_info": {
   "codemirror_mode": {
    "name": "ipython",
    "version": 3
   },
   "file_extension": ".py",
   "mimetype": "text/x-python",
   "name": "python",
   "nbconvert_exporter": "python",
   "pygments_lexer": "ipython3",
   "version": "3.12.4"
  }
 },
 "nbformat": 4,
 "nbformat_minor": 5
}
